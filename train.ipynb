{
 "cells": [
  {
   "cell_type": "code",
   "execution_count": null,
   "metadata": {
    "collapsed": true
   },
   "outputs": [],
   "source": [
    "import torch\n",
    "import numpy as np\n",
    "import torch.nn as nn\n",
    "from torch.autograd import Variable\n",
    "from datasets import train_datasets\n",
    "from model import dense_model\n",
    "from datasets import test_datasets\n",
    "from tensorboardX import SummaryWriter\n",
    "\n",
    "def train(nepoch, nepoch_summary, nepoch_model, save_path):\n",
    "    train_loader = train_datasets()\n",
    "\n",
    "    model = dense_model.Model()\n",
    "\n",
    "    criterion = nn.MSELoss(size_average=True)\n",
    "    optimizer = torch.optim.Adam(model.parameters(), lr=0.0001)\n",
    "\n",
    "\n",
    "    for epoch in range(nepoch):\n",
    "        for i, data in enumerate(train_loader):\n",
    "            inputs, lables = data\n",
    "            inputs, lables = Variable(inputs).float(), Variable(lables).float()\n",
    "\n",
    "            y_pred = model(inputs)\n",
    "\n",
    "            loss = criterion(y_pred, lables)\n",
    "            print(epoch, i, loss.item())\n",
    "\n",
    "            optimizer.zero_grad()\n",
    "            loss.backward()\n",
    "            optimizer.step()\n",
    "        accuracy(model)\n",
    "        if epoch % nepoch_summary == 0:  # 매 10 iteration마다\n",
    "            summary_write(epoch, loss)\n",
    "        if epoch % nepoch_model == 0:\n",
    "            model_save(epoch, save_path, model)\n",
    "\n",
    "\n",
    "\n",
    "def accuracy(model):\n",
    "\n",
    "    criterion = nn.MSELoss()\n",
    "\n",
    "    inputs, lables = test_datasets()\n",
    "    inputs, lables = np.array(inputs), np.array(lables)\n",
    "    inputs, lables = torch.from_numpy(inputs), torch.from_numpy(lables)\n",
    "    inputs, lables = Variable(inputs).float(), Variable(lables).float()\n",
    "\n",
    "    y_pred = model(inputs)\n",
    "    y_pred = y_pred.round()\n",
    "\n",
    "    loss = torch.sqrt(criterion(y_pred, lables))\n",
    "    print('Test Accuracy:', loss)\n",
    "\n",
    "def summary_write(epoch, loss):\n",
    "    summary.add_scalar('loss/loss', loss.item(), epoch)\n",
    "    print(\"Write Summary\")\n",
    "\n",
    "def model_save(epoch, save_path, model):\n",
    "    save_path = save_path + 'epoch' + str(epoch) + '.pth'\n",
    "    torch.save(model.state_dict(), save_path)\n",
    "    print(\"Save Model\")\n",
    "\n",
    "if __name__ == \"__main__\":\n",
    "    nepoch = 1000\n",
    "    nepoch_summary = 10\n",
    "    nepoch_model = 100\n",
    "    save_path = \"./output/\"\n",
    "    summary = SummaryWriter()\n",
    "\n",
    "    train(nepoch, nepoch_summary, nepoch_model, save_path)\n"
   ]
  }
 ],
 "metadata": {
  "language_info": {
   "codemirror_mode": {
    "name": "ipython",
    "version": 2
   },
   "file_extension": ".py",
   "mimetype": "text/x-python",
   "name": "python",
   "nbconvert_exporter": "python",
   "pygments_lexer": "ipython2",
   "version": "2.7.6"
  },
  "kernelspec": {
   "name": "python3",
   "language": "python",
   "display_name": "Python 3"
  },
  "pycharm": {
   "stem_cell": {
    "cell_type": "raw",
    "source": [],
    "metadata": {
     "collapsed": false
    }
   }
  }
 },
 "nbformat": 4,
 "nbformat_minor": 0
}